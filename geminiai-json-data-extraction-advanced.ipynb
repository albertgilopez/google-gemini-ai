{
  "cells": [
    {
      "cell_type": "markdown",
      "metadata": {
        "id": "ErAPHHjO-deZ"
      },
      "source": [
        "# Gemini AI: Extracción avanzada de datos estructurados con Gemini Pro\n",
        "\n",
        "Este notebook contiene un ejemplo práctico que demuestra cómo realizar búsquedas en Google en tiempo real y procesar los datos obtenidos mediante técnicas avanzadas de web scraping y técnicas avanzadas de extracción y procesamiento de información junto con la aplicación de modelos de inteligencia artificial como Gemini Pro de Vertex AI. Es una guía paso a paso que cubre desde la autenticación y configuración inicial hasta la extracción y formateo de datos.\n",
        "\n",
        "**CONTENIDO**\n",
        "\n",
        "- Autenticación en Google Cloud: Código para autenticar el usuario en Google Colab y configurar Vertex AI con un Project ID y una ubicación específica.\n",
        "- Búsqueda en Tiempo Real en Google: Uso de herramientas como googlesearch para realizar búsquedas en Google y filtrar los resultados.\n",
        "- Web Scraping con Langchain: Extracción de contenido web utilizando Langchain y conversión a texto con html2text.\n",
        "- Extracción de Información: Procesos para extraer y estructurar información relevante del contenido web.\n",
        "- Análisis de Datos: Técnicas para identificar temas, palabras clave, etiquetas y intenciones dentro del contenido extraído.\n",
        "\n",
        "\n",
        "**CÓMO EMPEZAR**\n",
        "\n",
        "- Autenticación y Configuración: Sigue las instrucciones para autenticarte y configurar tu entorno de Vertex AI.\n",
        "- Extracción de Datos Avanzada: Realiza web scraping avanzado de una URL específica para recopilar datos.\n",
        "- Análisis y Formateo de Datos con IA: Utiliza el modelo Gemini Pro para análisis avanzados y transformación de los datos en un formato estructurado y analizable.\n",
        "\n",
        "**CONTRIBUIR**\n",
        "\n",
        "Si tienes ideas, preguntas o deseas discutir sobre las posibilidades de la IA y cómo trabajar juntos para construir soluciones basadas en IAG, no dudes en contactarme:\n",
        "\n",
        "- GitHub: https://github.com/albertgilopez\n",
        "- LinkedIn: Albert Gil López: https://www.linkedin.com/in/albertgilopez/\n",
        "- Inteligencia Artificial Generativa (IAG) en español: https://www.codigollm.es/"
      ]
    },
    {
      "cell_type": "code",
      "execution_count": 1,
      "metadata": {
        "id": "lHmH1yGC99EG"
      },
      "outputs": [],
      "source": [
        "import sys\n",
        "\n",
        "# Autenticación adicional para Google Colab\n",
        "if \"google.colab\" in sys.modules:\n",
        "    from google.colab import auth\n",
        "    auth.authenticate_user()\n",
        "\n",
        "# @param {type:\"string\"}\n",
        "PROJECT_ID = \"vertex-ai-407803\"  # Sustituye con tu Project ID\n",
        "# @param {type:\"string\"}\n",
        "LOCATION = \"us-central1\"  # Elige tu región\n",
        "\n",
        "if \"google.colab\" in sys.modules:\n",
        "    import vertexai\n",
        "    vertexai.init(project=PROJECT_ID, location=LOCATION)\n",
        "\n",
        "# import os\n",
        "# print(os.environ)\n",
        "\n",
        "import vertexai\n",
        "\n",
        "from google.oauth2 import service_account\n",
        "CREDENTIALS = service_account.Credentials.from_service_account_file(r\"C:\\Users\\Usuario\\Documents\\personally.ai-shopper\\Notebooks\\vertex-ai-407803-ac70f5ed7cd1.json\")\n",
        "\n",
        "vertexai.init(project=PROJECT_ID, credentials=CREDENTIALS)\n"
      ]
    },
    {
      "cell_type": "markdown",
      "metadata": {
        "id": "-x7PO4Cx-kta"
      },
      "source": [
        "## Realtime Google Search with Langchain\n",
        "\n",
        "En esta sección, vamos a demostrar cómo realizar búsquedas en tiempo real en Google utilizando Langchain, una biblioteca que facilita el trabajo con cadenas de lenguaje y procesamiento de texto. \n",
        "\n",
        "Nuestro objetivo es obtener resultados de búsqueda relevantes para una consulta dada y procesar estos resultados para su posterior análisis.\n"
      ]
    },
    {
      "cell_type": "code",
      "execution_count": 35,
      "metadata": {
        "colab": {
          "base_uri": "https://localhost:8080/"
        },
        "id": "r1ek-n4IzOzG",
        "outputId": "814ee5f5-684a-4229-d0a3-7a5b13abf752"
      },
      "outputs": [],
      "source": [
        "# Instalación de dependencias necesarias\n",
        "\n",
        "!pip install -U duckduckgo_search googlesearch-python langchain playwright beautifulsoup4 html2text\n"
      ]
    },
    {
      "cell_type": "markdown",
      "metadata": {},
      "source": [
        "Utilizaremos el módulo `googlesearch` para realizar búsquedas en Google. Definiremos una consulta de búsqueda y obtendremos los resultados.\n"
      ]
    },
    {
      "cell_type": "code",
      "execution_count": 41,
      "metadata": {
        "id": "FfEbBjmAzYUp"
      },
      "outputs": [],
      "source": [
        "google_search_results = []\n",
        "structured_response = []\n",
        "\n",
        "# Definición de la consulta de búsqueda\n",
        "search_query = \"juguetes en Cerdanyola del Vallès (Barcelona)\"\n",
        "\n",
        "# Realizando la búsqueda\n",
        "from googlesearch import search\n",
        "number_of_results = 1\n",
        "results = search(search_query, lang=\"es\", num_results=number_of_results)\n",
        "\n",
        "# Filtrando y almacenando los resultados\n",
        "google_search_results = [result for result in results if not result.startswith(\"https://www.tripadvisor.com\")]"
      ]
    },
    {
      "cell_type": "markdown",
      "metadata": {},
      "source": [
        "A continuación, procesaremos el primer enlace de los resultados de búsqueda para extraer información útil utilizando `langchain`.\n"
      ]
    },
    {
      "cell_type": "code",
      "execution_count": 42,
      "metadata": {
        "id": "iOTxbNf46fYZ"
      },
      "outputs": [
        {
          "name": "stdout",
          "output_type": "stream",
          "text": [
            "Procesando enlace: https://www.joguinesduba.com/\n"
          ]
        }
      ],
      "source": [
        "# Procesamiento del primer enlace\n",
        "link = google_search_results[0]\n",
        "print(\"Procesando enlace:\", link)"
      ]
    },
    {
      "cell_type": "markdown",
      "metadata": {},
      "source": [
        "Utilizaremos funciones asíncronas para extraer y transformar el contenido HTML del enlace obtenido.\n"
      ]
    },
    {
      "cell_type": "code",
      "execution_count": 43,
      "metadata": {
        "id": "zR0KGPUz6nlh"
      },
      "outputs": [],
      "source": [
        "import html2text\n",
        "from langchain.document_loaders import AsyncHtmlLoader\n",
        "from langchain.document_transformers import Html2TextTransformer\n",
        "\n",
        "async def do_webscraping(link):\n",
        "    try:\n",
        "        urls = [link]\n",
        "        loader = AsyncHtmlLoader(urls)\n",
        "        docs = loader.load()\n",
        "\n",
        "        html2text_transformer = Html2TextTransformer()\n",
        "        docs_transformed = html2text_transformer.transform_documents(docs)\n",
        "\n",
        "        if docs_transformed != None and len(docs_transformed) > 0:\n",
        "            metadata = docs_transformed[0].metadata\n",
        "            title = metadata.get('title', '')\n",
        "            return {\n",
        "                'summary': docs_transformed[0].page_content,\n",
        "                'title': title,\n",
        "                'metadata': metadata,\n",
        "                'clean_content': html2text.html2text(docs_transformed[0].page_content)\n",
        "            }\n",
        "        else:\n",
        "            return None\n",
        "\n",
        "    except Exception as e:\n",
        "        print(f\"An unexpected error occurred: {e}\")\n",
        "        return None"
      ]
    },
    {
      "cell_type": "code",
      "execution_count": 44,
      "metadata": {
        "colab": {
          "base_uri": "https://localhost:8080/"
        },
        "id": "aZhF09OZTbXm",
        "outputId": "ae1aa183-2679-44d4-e46a-f8d1e4815d17"
      },
      "outputs": [
        {
          "name": "stderr",
          "output_type": "stream",
          "text": [
            "Fetching pages: 100%|##########| 1/1 [00:01<00:00,  1.46s/it]\n"
          ]
        }
      ],
      "source": [
        "response = await do_webscraping(link)\n",
        "\n",
        "if response != None:\n",
        "  structured_response.append(response)"
      ]
    },
    {
      "cell_type": "markdown",
      "metadata": {},
      "source": [
        "Visualizamos el resultado:"
      ]
    },
    {
      "cell_type": "code",
      "execution_count": 45,
      "metadata": {
        "colab": {
          "base_uri": "https://localhost:8080/"
        },
        "id": "3FwrBCziTxPU",
        "outputId": "c6eceafd-02ec-4329-d6e5-cb78a40b569f"
      },
      "outputs": [
        {
          "data": {
            "text/plain": [
              "[{'summary': 'Accedir\\n\\nRegistrar-me\\n\\n __\\n\\n\\uf086\\n\\n\\uf041\\n\\n\\uf10b\\n\\n\\\\+ Duba Bodies\\n\\n\\\\+ Team Duba\\n\\nMi cuenta\\n\\n### Acceda a su cuenta\\n\\nUsuario\\n\\nContraseña\\n\\nRecordarme\\n\\n  * Olvido su password?\\n  * Olvido su usuario?\\n\\n0\\n\\nSu pedido\\n\\nNo hay productos en su pedido.\\n\\n  * Inicio\\n  * __ Juguetería\\n  * __ Radiocontrol\\n  * Servicios\\n  * Team Duba\\n  * Duba Bodies\\n  * Contacto\\n\\nBuscar\\n\\n  *   * \\n\\n  * Radio control\\n  * Juguetería\\n\\n  * ###  Tienda DUBA \\n\\nTenemos una **gran cantidad y variedad de artículos** para todo tipo de\\nclientes: **coches de iniciación** y **competición** , sección de **juguetes**\\n, **drones** , **helicópteros** , **coches de slot** y **marquetería**.\\nSiempre intentamos asesorarte de la mejor manera, para que el producto que\\nestá buscando se adapte a tus necesidades y características.\\n\\n    * Juguetería\\n    * Radiocontrol\\n\\n  * ###  Servicios Radiocontrol \\n\\n**Todos los servicios** de apoyo que puedas necesitar en el hobby del\\n**radiocontrol** : **asesoramiento** , **venta** , **post/venta** , **puesta a\\npunto** , **taller** , **pintura** y **montaje a medida**.\\n\\nTodos los servicios en radiocontrol\\n\\n#  Juguetes y radiocontrol Duba\\n\\n## Juguetería, modelismo, radiocontrol, slot y competición.\\n\\nDesde 1962, especialistas en **juguetería** , **modelismo** , **radiocontrol**\\n, **slot** y **competición**. Con **servicio profesional de mantenimiento,\\nreparación y mejora de tu coche de readiocontrol**. Contamos con un gran\\nsurtido de productos y más de 65 metros cuadrados de recambios para dar\\nservicio al cliente.\\n\\nLa empresa fue fundada en 1962 y ha sido siempre un negocio familiar del que\\nJoaquim Dubà se ha hecho cargo en los últimos 40 años. Empezó aficionándose a\\nlos aviones de vuelo circular hasta convertirse en un profesional en todos los\\námbitos del mundo del radiocontrol.\\n\\nEn nuestra filosofía de trabajo nos encanta poder **asesorar y enseñar al\\ncliente en todos esos conceptos técnicos** en los que siempre puede haber\\ndudas y estar al día con la nueva tecnología implementada en todos los equipos\\nelectrónicos.\\n\\n  * ###  Servicios Radiocontrol \\n\\n**Todos los servicios** de apoyo que puedas necesitar en el hobby del\\n**radiocontrol** : **asesoramiento** , **venta** , **post/venta** , **puesta a\\npunto** , **taller** , **pintura** y **montaje a medida**.\\n\\nTodos los servicios en radiocontrol\\n\\n  * ###  Tienda DUBA \\n\\nTenemos una **gran cantidad y variedad de artículos** para todo tipo de\\nclientes: **coches de iniciación** y **competición** , sección de **juguetes**\\n, **drones** , **helicópteros** , **coches de slot** y **marquetería**.\\nSiempre intentamos asesorarte de la mejor manera, para que el producto que\\nestá buscando se adapte a tus necesidades y características.\\n\\n    * Juguetería\\n    * Radiocontrol\\n\\nJuguetes – venta online\\n\\nRadiocontrol – venta online\\n\\nServicios radiocontrol\\n\\n  * #### Joguines DUBA\\n\\n  * #### Team DUBA\\n\\n  * #### DUBA Bodies\\n\\nAtención al cliente:  \\n **935 80 84 67**\\n\\nCarretera de Barcelona, 125, 08280  \\nCerdanyola del Vallès, (Barcelona)\\n\\nver mapa\\n\\n2023 - DUBA - Tienda de radiocontrol y juguetes - Condiciones de venta \\\\-\\nPolítica de privacidad \\\\- Política de cookies \\\\- Creación de páginas web\\n\\nUsamos cookies\\n\\nJoguines Duba S.L. utiliza \"COOKIES\" para garantizar el correcto\\nfuncionamiento de nuestro portal web, mejorando la seguridad, para obtener una\\neficacia y una personalización superiores, para recoger datos estadísticos.  \\nMarque en \"ACEPTAR\" para autorizar su uso o “RECHAZAR” para rechazarlas. En\\neste caso Joguines Duba S.L. no puede garantizar la plena funcionalidad de la\\npágina. Puede obtener más información en nuestra POLÍTICA DE COOKIES aquí o en\\nel pie de página.\\n\\nAceptar Rechazar\\n\\nMás información\\n\\n',\n",
              "  'title': 'Duba - Tienda de radiocontrol y juguetes',\n",
              "  'metadata': {'source': 'https://www.joguinesduba.com/',\n",
              "   'title': 'Duba - Tienda de radiocontrol y juguetes',\n",
              "   'description': 'Tienda online y física, especializada en juguetería, modelismo, radiocontrol y slot, con servicios de apoyo al hobby del radiocontrol: asesoramiento, pintura y montaje de carrocerías a medida, taller de reparación de radiocontrol, puesta a punto,…',\n",
              "   'language': 'es-ES'},\n",
              "  'clean_content': 'Accedir Registrar-me __ \\uf086 \\uf041 \\uf10b \\\\\\\\+ Duba Bodies \\\\\\\\+ Team Duba Mi cuenta ###\\nAcceda a su cuenta Usuario Contraseña Recordarme * Olvido su password? *\\nOlvido su usuario? 0 Su pedido No hay productos en su pedido. * Inicio * __\\nJuguetería * __ Radiocontrol * Servicios * Team Duba * Duba Bodies * Contacto\\nBuscar * * * Radio control * Juguetería * ### Tienda DUBA Tenemos una **gran\\ncantidad y variedad de artículos** para todo tipo de clientes: **coches de\\niniciación** y **competición** , sección de **juguetes** , **drones** ,\\n**helicópteros** , **coches de slot** y **marquetería**. Siempre intentamos\\nasesorarte de la mejor manera, para que el producto que está buscando se\\nadapte a tus necesidades y características. * Juguetería * Radiocontrol * ###\\nServicios Radiocontrol **Todos los servicios** de apoyo que puedas necesitar\\nen el hobby del **radiocontrol** : **asesoramiento** , **venta** ,\\n**post/venta** , **puesta a punto** , **taller** , **pintura** y **montaje a\\nmedida**. Todos los servicios en radiocontrol # Juguetes y radiocontrol Duba\\n## Juguetería, modelismo, radiocontrol, slot y competición. Desde 1962,\\nespecialistas en **juguetería** , **modelismo** , **radiocontrol** , **slot**\\ny **competición**. Con **servicio profesional de mantenimiento, reparación y\\nmejora de tu coche de readiocontrol**. Contamos con un gran surtido de\\nproductos y más de 65 metros cuadrados de recambios para dar servicio al\\ncliente. La empresa fue fundada en 1962 y ha sido siempre un negocio familiar\\ndel que Joaquim Dubà se ha hecho cargo en los últimos 40 años. Empezó\\naficionándose a los aviones de vuelo circular hasta convertirse en un\\nprofesional en todos los ámbitos del mundo del radiocontrol. En nuestra\\nfilosofía de trabajo nos encanta poder **asesorar y enseñar al cliente en\\ntodos esos conceptos técnicos** en los que siempre puede haber dudas y estar\\nal día con la nueva tecnología implementada en todos los equipos electrónicos.\\n* ### Servicios Radiocontrol **Todos los servicios** de apoyo que puedas\\nnecesitar en el hobby del **radiocontrol** : **asesoramiento** , **venta** ,\\n**post/venta** , **puesta a punto** , **taller** , **pintura** y **montaje a\\nmedida**. Todos los servicios en radiocontrol * ### Tienda DUBA Tenemos una\\n**gran cantidad y variedad de artículos** para todo tipo de clientes: **coches\\nde iniciación** y **competición** , sección de **juguetes** , **drones** ,\\n**helicópteros** , **coches de slot** y **marquetería**. Siempre intentamos\\nasesorarte de la mejor manera, para que el producto que está buscando se\\nadapte a tus necesidades y características. * Juguetería * Radiocontrol\\nJuguetes – venta online Radiocontrol – venta online Servicios radiocontrol *\\n#### Joguines DUBA * #### Team DUBA * #### DUBA Bodies Atención al cliente:\\n**935 80 84 67** Carretera de Barcelona, 125, 08280 Cerdanyola del Vallès,\\n(Barcelona) ver mapa 2023 - DUBA - Tienda de radiocontrol y juguetes -\\nCondiciones de venta \\\\\\\\- Política de privacidad \\\\\\\\- Política de cookies \\\\\\\\-\\nCreación de páginas web Usamos cookies Joguines Duba S.L. utiliza \"COOKIES\"\\npara garantizar el correcto funcionamiento de nuestro portal web, mejorando la\\nseguridad, para obtener una eficacia y una personalización superiores, para\\nrecoger datos estadísticos. Marque en \"ACEPTAR\" para autorizar su uso o\\n“RECHAZAR” para rechazarlas. En este caso Joguines Duba S.L. no puede\\ngarantizar la plena funcionalidad de la página. Puede obtener más información\\nen nuestra POLÍTICA DE COOKIES aquí o en el pie de página. Aceptar Rechazar\\nMás información\\n\\n'}]"
            ]
          },
          "execution_count": 45,
          "metadata": {},
          "output_type": "execute_result"
        }
      ],
      "source": [
        "structured_response"
      ]
    },
    {
      "cell_type": "markdown",
      "metadata": {
        "id": "qVkcH8ldmVM-"
      },
      "source": [
        "## Information Extraction\n",
        "\n",
        "En esta sección, nos enfocaremos en la extracción de información clave de los datos recopilados en la búsqueda anterior.\n",
        "\n",
        "Utilizaremos técnicas de procesamiento de lenguaje natural para identificar y extraer información útil, como entidades, conceptos y relaciones, de los textos obtenidos.\n",
        "\n",
        "Para estructurar mejor la información extraída, utilizaremos una función que extrae datos en formato JSON de nuestros textos procesados. Esto nos permitirá manejar la información de manera más eficiente en pasos posteriores.\n",
        "\n"
      ]
    },
    {
      "cell_type": "code",
      "execution_count": 46,
      "metadata": {
        "id": "qVPTZlV3BBV-"
      },
      "outputs": [],
      "source": [
        "import re\n",
        "import json\n",
        "\n",
        "def extract_json(input_string):\n",
        "    # Extract JSON within {} block\n",
        "    matches = re.findall(r'\\{(.*?)\\}', input_string, re.DOTALL)\n",
        "\n",
        "    if matches:\n",
        "        json_content = '{' + ''.join(matches) + '}'\n",
        "        return json_content\n",
        "    else:\n",
        "        print(\"No JSON block found.\")\n",
        "        return None"
      ]
    },
    {
      "cell_type": "markdown",
      "metadata": {},
      "source": [
        "Haremos uso de `vertexai` y su modelo generativo `gemini-pro` para procesar y extraer información relevante de los textos. Esto incluye resúmenes, palabras clave, y otros elementos significativos."
      ]
    },
    {
      "cell_type": "code",
      "execution_count": 47,
      "metadata": {
        "id": "KmHp4cxG7nDu"
      },
      "outputs": [],
      "source": [
        "import vertexai\n",
        "from vertexai.preview.generative_models import GenerativeModel, Part\n",
        "\n",
        "def execute_prompt(prompt, max_output_tokens=8192):\n",
        "  model = GenerativeModel(\"gemini-pro\")\n",
        "  responses = model.generate_content(\n",
        "    prompt,\n",
        "    generation_config={\n",
        "        \"max_output_tokens\": max_output_tokens,\n",
        "        \"temperature\": 0,\n",
        "        \"top_p\": 1\n",
        "    },\n",
        "  stream=True,\n",
        "  )\n",
        "\n",
        "  final_response = []\n",
        "\n",
        "  for response in responses:\n",
        "    if response.candidates and response.candidates[0].content.parts:\n",
        "        final_response.append(response.candidates[0].content.parts[0].text)\n",
        "\n",
        "  return \".\".join(final_response)"
      ]
    },
    {
      "cell_type": "markdown",
      "metadata": {},
      "source": [
        "Utilizaremos los textos procesados para generar prompts específicos, que luego serán utilizados con nuestro modelo generativo para extraer información relevante."
      ]
    },
    {
      "cell_type": "code",
      "execution_count": 13,
      "metadata": {
        "id": "LFMfo3cdvZjA"
      },
      "outputs": [],
      "source": [
        "def get_text_extract_prompt(title, summary):\n",
        "  prompt = f\"\"\"\n",
        "  Here is its title: {title}\n",
        "  Here is some text extracted:\n",
        "  ---------\n",
        "  {summary}\n",
        "  ---------\n",
        "\n",
        "  Web pages can have a lot of useless junk in them.\n",
        "  For example, there might be a lot of ads, or a\n",
        "  lot of navigation links, or a lot of text that\n",
        "  is not relevant to the topic of the page. We want\n",
        "  to extract only the useful information from the text.\n",
        "\n",
        "  You can use the url and title to help you understand\n",
        "  the context of the text.\n",
        "  Please extract only the useful information from the text.\n",
        "  Try not to rewrite the text, but instead extract\n",
        "  only the useful information from the text.\n",
        "  \"\"\"\n",
        "  return prompt"
      ]
    },
    {
      "cell_type": "code",
      "execution_count": 48,
      "metadata": {
        "colab": {
          "base_uri": "https://localhost:8080/"
        },
        "id": "1794ituVGNly",
        "outputId": "cb1ce77c-b7e4-46f0-df97-8ab0d6751043"
      },
      "outputs": [
        {
          "name": "stdout",
          "output_type": "stream",
          "text": [
            "Summary for Title: Duba - Tienda de radiocontrol y juguetes\n",
            "\n"
          ]
        }
      ],
      "source": [
        "summarries = []\n",
        "\n",
        "for structured_response_item in structured_response:\n",
        "    title = structured_response_item['title']\n",
        "    summary = structured_response_item['summary']\n",
        "    if summary != \"<html><body></body></html>\":\n",
        "      print(f'Summary for Title: {title}\\n')\n",
        "      text_extract_prompt = get_text_extract_prompt(title, summary)\n",
        "      prompt_response = execute_prompt(text_extract_prompt)\n",
        "      summarries.append(prompt_response)"
      ]
    },
    {
      "cell_type": "markdown",
      "metadata": {},
      "source": [
        "Visualizamos el resultado:"
      ]
    },
    {
      "cell_type": "code",
      "execution_count": 49,
      "metadata": {
        "colab": {
          "base_uri": "https://localhost:8080/"
        },
        "id": "PCoJR6YW6uTG",
        "outputId": "e52a31c1-5ec4-4a6a-86e9-1cdaa69d174d"
      },
      "outputs": [
        {
          "data": {
            "text/plain": [
              "['- DUBA is a toy and radio control store founded in 196.2.\\n- They offer a wide variety of products, including initiation and competition. cars, toys, drones, helicopters, slot cars, and marquetry.\\n- They provide professional maintenance, repair, and improvement services for radio control cars..\\n- They have a large assortment of products and more than 65 square meters of spare parts to serve customers.\\n- They specialize in advising and. teaching customers about technical concepts in the radio control hobby.']"
            ]
          },
          "execution_count": 49,
          "metadata": {},
          "output_type": "execute_result"
        }
      ],
      "source": [
        "summarries"
      ]
    },
    {
      "cell_type": "markdown",
      "metadata": {
        "id": "zqYN9ZlGvTkp"
      },
      "source": [
        "## Topic Extraction\n",
        "\n",
        "Esta sección se enfoca en la extracción de temas principales de los textos que hemos recopilado y procesado previamente.\n",
        "\n",
        "Utilizaremos técnicas avanzadas de procesamiento de lenguaje natural para identificar los temas centrales y subtemas presentes en el contenido, lo que nos ayudará a comprender mejor la naturaleza de los datos.\n",
        "\n",
        "Para extraer temas de manera efectiva, generaremos prompts específicos que guiarán a nuestro modelo generativo en la identificación de los temas principales y subtemas en el texto."
      ]
    },
    {
      "cell_type": "code",
      "execution_count": 51,
      "metadata": {
        "id": "uK-FVodQpNnC"
      },
      "outputs": [],
      "source": [
        "def get_topic_extraction_prompt(content):\n",
        "    prompt = f\"\"\"Label the main topic or topics in the following text: {content}\"\"\"\n",
        "    prompt = prompt + \"\"\"1. Identify and list the primary topic or category or provide a short description of the main subject matter of the text.\n",
        "      2. If there are subtopics or secondary themes mentioned in the text, list them as well. If the text discusses multiple topics, provide a list of these topics and describe their relevance.\n",
        "      3. Consider the context and tone of the text to determine the most appropriate topics. Take into account keywords, phrases, or specific terms that relate to the topics.\n",
        "      4. If any notable entities (people, places, brands, products, etc.) are mentioned in the text that play a role in the topics, mention them and their associations.\n",
        "      5. If the text suggests any actions, decisions, or recommendations related to the identified topics, provide a brief summary of these insights.\n",
        "\n",
        "      Ensure that your labeling is clear, concise, and reflects the most significant topics or categories found in the text.\n",
        "\n",
        "      Here's the output schema:\n",
        "\n",
        "      ```\n",
        "      {\n",
        "          \"Topic\": \"\",\n",
        "          \"Subtopics\": [\"\"],\n",
        "          \"Context\": \"\",\n",
        "          \"NotableEntities\": [],\n",
        "          \"Recommendations\": \"\"\n",
        "      }\n",
        "      ```\n",
        "\n",
        "      Do not respond with your own suggestions or recommendations or feedback.\"\"\"\n",
        "    return prompt"
      ]
    },
    {
      "cell_type": "markdown",
      "metadata": {},
      "source": [
        "Haremos uso del modelos generativo `gemini-pro` de `vertexai`, para procesar los prompts y extraer los temas relevantes del texto."
      ]
    },
    {
      "cell_type": "code",
      "execution_count": 52,
      "metadata": {
        "colab": {
          "base_uri": "https://localhost:8080/"
        },
        "id": "1A9g4FrRpwS-",
        "outputId": "1be4be97-2bb2-47e1-b6a4-632ea5d62a6e"
      },
      "outputs": [
        {
          "name": "stdout",
          "output_type": "stream",
          "text": [
            "Topics: Duba - Tienda de radiocontrol y juguetes\n",
            "\n",
            "\",\n",
            "  \"Subtopics\": [\n",
            "    \"Juguetería\",.\n",
            "    \"Modelismo\",\n",
            "    \"Radiocontrol\",\n",
            "    \"Slot\",\n",
            "    \"Competición\",\n",
            "    \"Servicios de mantenimiento, reparación y. mejora de coches de radiocontrol\"\n",
            "  ],\n",
            "  \"Context\": \"La empresa Duba es una tienda especializada en juguetes, modelismo, radiocontrol., slot y competición desde 1962. Ofrecen una gran variedad de artículos para todo tipo de clientes, desde coches de iniciación hasta coches de competición, así como una sección de juguetes, drones, helicópteros, coches de. slot y marquetería.\",\n",
            "  \"NotableEntities\": [\n",
            "    \"Duba\",\n",
            "    \"Joaquim Dubà\"\n",
            "  ],\n",
            "  \"Recommendations\": \"La empresa Duba recomienda a sus clientes que se ases.oren con ellos para elegir el producto que mejor se adapte a sus necesidades y características.\"\n",
            "}\n",
            "```\n"
          ]
        }
      ],
      "source": [
        "topics = []\n",
        "\n",
        "for structured_response_item in structured_response:\n",
        "  title = structured_response_item['title']\n",
        "  summary = structured_response_item['summary']\n",
        "  if summary != \"<html><body></body></html>\":\n",
        "    print(f'Topics: {title}\\n')\n",
        "    prompt = get_topic_extraction_prompt(summary)\n",
        "    response = execute_prompt(prompt)\n",
        "    print(response)\n",
        "    \n"
      ]
    },
    {
      "cell_type": "markdown",
      "metadata": {},
      "source": [
        "Añadimos un paso extra, un nuevo prompt para validar la relevancia y la calidad del contenido proporcionado.\n",
        "\n",
        "Aprovechamos para solicitarle mejoras y acciones de mejora asociadas."
      ]
    },
    {
      "cell_type": "code",
      "execution_count": 53,
      "metadata": {},
      "outputs": [
        {
          "name": "stdout",
          "output_type": "stream",
          "text": [
            "**Assessment:**\n",
            "\n",
            "The content provided is relevant to the topic of toys, modeling, radio control, slot cars, and competition. It also mentions the company Duba, which specializes in these areas. The content is of good quality, as it is well-written and provides a clear overview of the company and its products.\n",
            "\n",
            "**Improvement Possibilities:**\n",
            "\n",
            "* The content could be improved by adding more specific information about the products that Duba offers. For example, it could include a list of the different types of toys, models, and radio-controlled cars that the company sells.\n",
            "* The content could also be improved by adding more information about the company's history and its founder, Joaquim Dubà. This would help to provide a more personal touch to the content and make it more engaging for readers.\n",
            "\n",
            "**Actions to Do:**\n",
            "\n",
            "* To improve the content, the following actions could be taken:\n",
            "    * Add a list of the different types of toys, models, and radio-controlled cars that Duba sells.\n",
            "    * Add more information about the company's history and its founder, Joaquim Dubà.\n",
            "    * Consider adding images or videos to the content to make it more visually appealing.\n",
            "    * Proofread the content carefully to ensure that there are no errors.\n"
          ]
        }
      ],
      "source": [
        "import vertexai\n",
        "from vertexai.preview.generative_models import GenerativeModel, Part\n",
        "\n",
        "def validate_data_with_gemini(content):\n",
        "    \"\"\"\n",
        "    Esta función utiliza el modelo Gemini para validar la relevancia y calidad del contenido proporcionado.\n",
        "    Devuelve un texto que indica si el contenido es relevante y de calidad para el procesamiento posterior.\n",
        "\n",
        "    Args:\n",
        "        content (str): El contenido a validar.\n",
        "\n",
        "    Returns:\n",
        "        str: Respuesta del modelo indicando la relevancia y calidad del contenido.\n",
        "    \"\"\"\n",
        "\n",
        "    # Configura el modelo Gemini\n",
        "    model = GenerativeModel(\"gemini-pro\")\n",
        "\n",
        "    # Crea el prompt para el modelo\n",
        "    prompt = f\"\"\"\n",
        "    You are a data validation expert. Your job is to analyze the following content and determine if it is relevant and of good quality for further processing. Here is the content:\n",
        "    ---\n",
        "    {content}\n",
        "    ---\n",
        "\n",
        "    Please provide your assessment on the quality and relevance of this content for further information extraction processes.\n",
        "    Please provide improvement possibilities if there is possible.\n",
        "    Please provide actions to do according with this improvement possibilities.\n",
        "    \"\"\"\n",
        "\n",
        "    # Ejecuta el modelo con el prompt\n",
        "    response = model.generate_content(\n",
        "        prompt,\n",
        "        generation_config={\n",
        "            \"max_output_tokens\" : 8192,\n",
        "            \"temperature\": 0,\n",
        "            \"top_p\": 1\n",
        "        },\n",
        "    )\n",
        "\n",
        "    # Obtiene y retorna la respuesta del modelo\n",
        "    if response.candidates and response.candidates[0].content.parts:\n",
        "        return response.candidates[0].content.parts[0].text\n",
        "    else:\n",
        "        return \"No se pudo obtener una respuesta válida del modelo.\"\n",
        "\n",
        "# Ejemplo de uso\n",
        "content_to_validate = response\n",
        "validation_result = validate_data_with_gemini(content_to_validate)\n",
        "print(validation_result)\n"
      ]
    },
    {
      "cell_type": "markdown",
      "metadata": {
        "id": "7i0XF8fwvdWR"
      },
      "source": [
        "## Keyword Extraction\n",
        "\n",
        "En esta sección, abordaremos el proceso de identificar y extraer las palabras clave más relevantes de los textos procesados anteriormente.\n",
        "\n",
        "Esta técnica es crucial para entender rápidamente los temas centrales del texto y puede ser de gran utilidad en aplicaciones como SEO, resumen de contenido y análisis temático.\n",
        "\n",
        "Para extraer palabras clave de manera eficiente, formularemos prompts específicos que dirigirán nuestro modelo generativo a enfocarse en las palabras y frases más significativas del contenido.\n"
      ]
    },
    {
      "cell_type": "code",
      "execution_count": 23,
      "metadata": {
        "id": "Y17TSS6Mvgcy"
      },
      "outputs": [],
      "source": [
        "def get_keyword_extraction_prompt(content):\n",
        "    prompt = f\"\"\"Extract key keywords or phrases from the following text: {content}\"\"\"\n",
        "    prompt = prompt + \"\"\"1. Identify and list the most important keywords or key phrases in the text. These keywords should capture the main topics, concepts, or subjects discussed in the text.\n",
        "      2. If there are subtopics or secondary themes mentioned in the text, list them as well. Ensure that the extracted keywords accurately represent the content's context.\n",
        "      3. Include the exact text span or sentence where each keyword or phrase is found in the original text.\n",
        "      4. If there are any ambiguous keywords or phrases, indicate the uncertainty and provide possible interpretations or context that might clarify the intended meaning.\n",
        "      5. Consider the context, relevance, and frequency of the keywords when determining their significance.\n",
        "      6. If the text suggests any actions, decisions, or recommendations related to the extracted keywords, provide a brief summary of these insights.\n",
        "\n",
        "      Ensure that your keyword extraction results are relevant, concise, and capture the essential topics within the text.\n",
        "\n",
        "      Here's the output schema:\n",
        "\n",
        "      ```\n",
        "      {\n",
        "          \"KeywordExtraction\": [\n",
        "              {\n",
        "                  \"Keyword\": \"\",\n",
        "                  \"Context\": \"\",\n",
        "                  \"TextSpan\": \"\"\n",
        "              }\n",
        "          ]\n",
        "      }\n",
        "      ```\n",
        "\n",
        "      Do not respond with your own suggestions or recommendations or feedback.\n",
        "    \"\"\"\n",
        "    return prompt"
      ]
    },
    {
      "cell_type": "markdown",
      "metadata": {},
      "source": [
        "Utilizaremos el modelo generativo `gemini-pro` proporcionado por `vertexai` para procesar los prompts creados y extraer las palabras clave relevantes."
      ]
    },
    {
      "cell_type": "code",
      "execution_count": 54,
      "metadata": {
        "id": "mV14f56mvzVE"
      },
      "outputs": [],
      "source": [
        "keywords = []\n",
        "\n",
        "for summary in summarries:\n",
        "  if summary != \"\":\n",
        "    prompt = get_keyword_extraction_prompt(summary)\n",
        "    response = execute_prompt(prompt)\n",
        "    extracted_json = extract_json(response)\n",
        "    if extracted_json != None:\n",
        "      keywords.append(extracted_json)"
      ]
    },
    {
      "cell_type": "markdown",
      "metadata": {},
      "source": [
        "Visualizamos el resultado:"
      ]
    },
    {
      "cell_type": "code",
      "execution_count": 55,
      "metadata": {
        "colab": {
          "base_uri": "https://localhost:8080/"
        },
        "id": "y1O08jhvJv34",
        "outputId": "8796078e-fae9-4b7a-ac79-7349cb99ad8b"
      },
      "outputs": [
        {
          "data": {
            "text/plain": [
              "['{\\n  \"KeywordExtraction\": [\\n    {\\n      \".Keyword\": \"DUBA\",\\n      \"Context\": \"DUBA is a. toy and radio control store founded in 196.2.\",\\n      \"TextSpan\": \"DUBA is a toy and radio control store founded in .196.2.\"\\n    \\n      \"Keyword\": \"Toys\",\\n      \"Context\": \"They offer a wide variety of. products, including initiation and competition. cars, toys, drones, helicopters, slot cars, and marquetry.\",\\n      \"TextSpan\": \"They offer a wide variety of products, including initiation and competition. cars, toys, drones,. helicopters, slot cars, and marquetry.\"\\n    \\n      \"Keyword\": \"Radio Control Cars\",\\n      \"Context\": \"They provide professional maintenance, repair, and improvement services for radio control cars.\",\\n.      \"TextSpan\": \"They provide professional maintenance, repair, and improvement services for radio control cars.\"\\n    \\n      \"Keyword\": \"Spare Parts\",\\n      \"Context\": \"They have a large assortment of products and more than 65 square meters of spare parts to serve customers.\",\\n.      \"TextSpan\": \"They have a large assortment of products and more than 65 square meters of spare parts to serve customers.\"\\n    \\n      \"Keyword\": \"Technical Concepts\",\\n      \"Context\": \"They specialize in advising and. teaching customers about technical concepts in the radio control hobby..1.\",\\n      \"TextSpan\": \"They specialize in advising and. teaching customers about technical concepts in the radio control hobby.1.\"\\n    }']"
            ]
          },
          "execution_count": 55,
          "metadata": {},
          "output_type": "execute_result"
        }
      ],
      "source": [
        "keywords"
      ]
    },
    {
      "cell_type": "markdown",
      "metadata": {
        "id": "atjfWPUqA43p"
      },
      "source": [
        "## Automated Tagger\n",
        "\n",
        "En esta sección, nos centraremos en el etiquetado automático de los textos. \n",
        "\n",
        "El etiquetado automático implica identificar y asignar etiquetas o categorías relevantes a segmentos de texto, lo que facilita su clasificación y análisis posterior.\n",
        "\n",
        "Esta técnica es especialmente útil para organizar grandes volúmenes de datos y extraer insights significativos.\n"
      ]
    },
    {
      "cell_type": "code",
      "execution_count": 56,
      "metadata": {
        "id": "ge1K_GFLA8YZ"
      },
      "outputs": [],
      "source": [
        "def get_automated_tagger_extraction_prompt(content):\n",
        "    prompt = f\"\"\"Automate the tagging of the following unstructured data: {content}\"\"\"\n",
        "    prompt = prompt + \"\"\"1. Identify and extract the most relevant tags, keywords, or categories for the given data. These tags should succinctly represent the content's main themes, subjects, or topics.\n",
        "        2. List the extracted tags, and provide a brief description or rationale for each tag to help users understand their significance.\n",
        "        3. If there are subcategories or hierarchies in the tags, ensure that they are appropriately nested or organized.\n",
        "        4. Consider the context, content, and domain-specific knowledge when selecting tags. Ensure that the tags accurately reflect the essence of the data.\n",
        "        5. If any tags are ambiguous or could have multiple interpretations, address these challenges and provide explanations for the chosen tags.\n",
        "        6. If there are specific tasks or analyses where the tagged data will be used, describe these use cases and how the tags are expected to be applied.\n",
        "        7. If the data contains temporal or dynamic elements, mention any trends, changes, or time-sensitive aspects that might impact the tags.\n",
        "\n",
        "        Ensure that your automated tagging results are clear, relevant, and make the data more accessible and useful.\n",
        "\n",
        "        Here's the output schema:\n",
        "\n",
        "        ```\n",
        "        {\n",
        "            \"AutomatedTagging\": {\n",
        "                \"Tags\": [\n",
        "                    {\n",
        "                        \"Tag\": \"\",\n",
        "                        \"Sentences\": []\n",
        "                    }\n",
        "                ]\n",
        "            }\n",
        "        }\n",
        "        ```\n",
        "\n",
        "        Do not respond with your own suggestions or recommendations or feedback.\n",
        "    \"\"\"\n",
        "    return prompt"
      ]
    },
    {
      "cell_type": "markdown",
      "metadata": {},
      "source": [
        "Utilizaremos el modelo generativo `gemini-pro` de `vertexai` para procesar los prompts y realizar el etiquetado automático de los textos, lo que nos ayudará a clasificar y entender mejor el contenido."
      ]
    },
    {
      "cell_type": "code",
      "execution_count": 57,
      "metadata": {
        "id": "TIJyR7HsBVHi"
      },
      "outputs": [],
      "source": [
        "taggers = []\n",
        "\n",
        "for summary in summarries:\n",
        "  if summary != \"\":\n",
        "    prompt = get_automated_tagger_extraction_prompt(summary)\n",
        "    response = execute_prompt(prompt)\n",
        "    extracted_json = extract_json(response)\n",
        "    if extracted_json != None:\n",
        "      taggers.append(extracted_json)"
      ]
    },
    {
      "cell_type": "markdown",
      "metadata": {},
      "source": [
        "Visualizamos el resultado:"
      ]
    },
    {
      "cell_type": "code",
      "execution_count": 58,
      "metadata": {
        "colab": {
          "base_uri": "https://localhost:8080/"
        },
        "id": "K19dVjrqmqDy",
        "outputId": "aab6a52b-f591-4d72-9263-3dcf2e9377b5"
      },
      "outputs": [
        {
          "data": {
            "text/plain": [
              "['{\\n    \"AutomatedTagging\": {\\n        \"Tags\":. [\\n            {\\n                \"Tag\": \"Radio Control Store\",\\n                .\"Sentences\": [\\n                    \"DUBA is a toy and radio control store founded in 196.2.\"\\n                ]\\n            \\n                \"Tag\": \"Products\",\\n                \"Sentences\": [\\n                    \"They offer a wide variety of products, including initiation and. competition. cars, toys, drones, helicopters, slot cars, and marquetry.\"\\n                ]\\n            \\n                \"Tag\": \"Services\",\\n                \"Sentences\": [\\n                    \"They provide professional. maintenance, repair, and improvement services for radio control cars.\"\\n                ]\\n            \\n                \"Tag\": \"Spare Parts\",\\n                \"Sentences\": [\\n                    \"They have a large assortment of products and. more than 65 square meters of spare parts to serve customers.\"\\n                ]\\n            \\n                \"Tag\": \"Technical Advice\",\\n                \"Sentences\": [\\n                    \"They specialize in advising and. teaching customers about technical concepts in the radio control hobby.\"\\n                ]\\n            .}']"
            ]
          },
          "execution_count": 58,
          "metadata": {},
          "output_type": "execute_result"
        }
      ],
      "source": [
        "taggers"
      ]
    },
    {
      "cell_type": "markdown",
      "metadata": {
        "id": "smWeD8A5TnfQ"
      },
      "source": [
        "## Intent Extraction\n",
        "\n",
        "En esta sección, nos enfocaremos en la extracción de intenciones (intents) de los textos procesados.\n",
        "\n",
        "La extracción de intenciones es crucial en aplicaciones como el desarrollo de chatbots y asistentes virtuales, ya que nos permite entender mejor lo que el usuario desea o necesita a partir de su entrada de texto.\n",
        "\n",
        "Formularemos prompts que guiarán a nuestro modelo generativo a identificar las intenciones subyacentes en el texto, lo cual es un paso esencial para comprender las necesidades y deseos expresados en el contenido.\n",
        "\n"
      ]
    },
    {
      "cell_type": "code",
      "execution_count": 31,
      "metadata": {
        "id": "EcCNKdYbTxCV"
      },
      "outputs": [],
      "source": [
        "import vertexai\n",
        "from vertexai.preview.generative_models import GenerativeModel, Part\n",
        "\n",
        "def get_intent_extraction_prompt(content):\n",
        "    # Definir el esquema en formato JSON correctamente\n",
        "    schema = \"\"\"\n",
        "    {\n",
        "        \"intents\": [\n",
        "            {\n",
        "                \"intent\": \"\",\n",
        "                \"statement\": \"\"\n",
        "            }\n",
        "        ]\n",
        "    }\n",
        "    \"\"\"\n",
        "    prompt = f\"\"\"You are an expert intent detector. Your job is to detect and list down all the intents within the below content. Output the same in the specified JSON schema format.\n",
        "    Here's the content:\n",
        "    ---\n",
        "    {content}\n",
        "    ---\n",
        "    Here's the schema:\n",
        "    {schema}\n",
        "    Do not respond with your own suggestions or recommendations or feedback.\n",
        "    \"\"\"\n",
        "    return prompt"
      ]
    },
    {
      "cell_type": "markdown",
      "metadata": {},
      "source": [
        "Utilizaremos el modelo generativo `gemini-pro` de `vertexai` para procesar los prompts y detectar las intenciones presentes en los textos. Esto nos ayudará a analizar y categorizar las entradas de texto de manera efectiva."
      ]
    },
    {
      "cell_type": "code",
      "execution_count": 59,
      "metadata": {
        "id": "ZwqdvBjeUD1S"
      },
      "outputs": [],
      "source": [
        "intents = []\n",
        "\n",
        "# Crear y ejecutar el prompt\n",
        "instruct_prompt = \"get me the summary for the following content\"\n",
        "prompt = get_intent_extraction_prompt(instruct_prompt)\n",
        "response = execute_prompt(prompt)\n",
        "extracted_json = extract_json(response)\n",
        "\n",
        "# Añadir el JSON extraído si existe\n",
        "if extracted_json:\n",
        "    intents.append(extracted_json)"
      ]
    },
    {
      "cell_type": "markdown",
      "metadata": {},
      "source": [
        "Visualizamos el resultado:"
      ]
    },
    {
      "cell_type": "code",
      "execution_count": 60,
      "metadata": {
        "colab": {
          "base_uri": "https://localhost:8080/"
        },
        "id": "I7pyOA3hVDbd",
        "outputId": "a37b0f33-ced4-420f-8b47-3a648198fc14"
      },
      "outputs": [
        {
          "name": "stdout",
          "output_type": "stream",
          "text": [
            "['{\\n  \"intents\": [\\n    {\\n      .\"intent\": \"GetSummary\",\\n      \"statement\": \"get me the. summary for the following content\"\\n    }']\n"
          ]
        }
      ],
      "source": [
        "print(intents)"
      ]
    }
  ],
  "metadata": {
    "colab": {
      "collapsed_sections": [
        "ErAPHHjO-deZ",
        "-x7PO4Cx-kta",
        "9aaL2-Jrf0NU",
        "qVkcH8ldmVM-",
        "cxqOBl9GmxND",
        "zqYN9ZlGvTkp",
        "7i0XF8fwvdWR",
        "atjfWPUqA43p",
        "smWeD8A5TnfQ",
        "oAfCdBR2oUBl",
        "CsWFU1NjsNOV"
      ],
      "provenance": [],
      "toc_visible": true
    },
    "kernelspec": {
      "display_name": "Python 3",
      "name": "python3"
    },
    "language_info": {
      "codemirror_mode": {
        "name": "ipython",
        "version": 3
      },
      "file_extension": ".py",
      "mimetype": "text/x-python",
      "name": "python",
      "nbconvert_exporter": "python",
      "pygments_lexer": "ipython3",
      "version": "3.11.4"
    }
  },
  "nbformat": 4,
  "nbformat_minor": 0
}
