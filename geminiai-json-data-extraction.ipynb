{
  "cells": [
    {
      "cell_type": "markdown",
      "metadata": {
        "id": "-x7PO4Cx-kta"
      },
      "source": [
        "# Gemini AI: Extracción de datos estructurados con Gemini Pro\n",
        "\n",
        "Este notebook contiene un ejemplo práctico que demuestra cómo realizar búsquedas en Google en tiempo real y procesar los datos obtenidos mediante técnicas avanzadas de web scraping y la aplicación de modelos de inteligencia artificial como Gemini Pro de Vertex AI. Es una guía paso a paso que cubre desde la autenticación y configuración inicial hasta la extracción y formateo de datos.\n",
        "\n",
        "**CONTENIDO**\n",
        "\n",
        "- Autenticación en Google Cloud: Código para autenticar el usuario en Google Colab y configurar Vertex AI con un Project ID y una ubicación específica.\n",
        "- Web Scraping: Un script de Python para extraer contenido de una página web utilizando requests y html2text.\n",
        "- Procesamiento de Datos con Gemini Pro: Uso del modelo gemini-pro de Vertex AI para formatear la respuesta del scraping web a un esquema JSON predefinido.\n",
        "\n",
        "**CÓMO EMPEZAR**\n",
        "\n",
        "- Autenticación y Configuración: Sigue las instrucciones para autenticarte y configurar tu entorno de Vertex AI.\n",
        "- Extracción de Datos: Realiza web scraping de una URL específica para recopilar datos.\n",
        "- Formateo de Datos con IA: Utiliza el modelo Gemini Pro para transformar los datos extraídos en un formato estructurado y fácilmente analizable.\n",
        "\n",
        "**CONTRIBUIR**\n",
        "\n",
        "Si tienes ideas, preguntas o deseas discutir sobre las posibilidades de la IA y cómo trabajar juntos para construir soluciones basadas en IAG, no dudes en contactarme:\n",
        "\n",
        "- GitHub: https://github.com/albertgilopez\n",
        "- LinkedIn: Albert Gil López: https://www.linkedin.com/in/albertgilopez/\n",
        "- Inteligencia Artificial Generativa (IAG) en español: https://www.codigollm.es/"
      ]
    },
    {
      "cell_type": "code",
      "execution_count": 182,
      "metadata": {},
      "outputs": [],
      "source": [
        "import sys\n",
        "\n",
        "# Autenticación adicional para Google Colab\n",
        "if \"google.colab\" in sys.modules:\n",
        "    from google.colab import auth\n",
        "    auth.authenticate_user()\n",
        "\n",
        "# @param {type:\"string\"}\n",
        "PROJECT_ID = \"tu-project-id\"  # Sustituye con tu Project ID\n",
        "# @param {type:\"string\"}\n",
        "LOCATION = \"tu-region-id\"  # Elige tu región\n",
        "\n",
        "if \"google.colab\" in sys.modules:\n",
        "    import vertexai\n",
        "    vertexai.init(project=PROJECT_ID, location=LOCATION)\n",
        "\n",
        "# import os\n",
        "# print(os.environ)\n",
        "\n",
        "import vertexai\n",
        "\n",
        "from google.oauth2 import service_account\n",
        "CREDENTIALS = service_account.Credentials.from_service_account_file(\"ruta-a-tu-credentials.json\")\n",
        "\n",
        "vertexai.init(project=PROJECT_ID, credentials=CREDENTIALS)"
      ]
    },
    {
      "cell_type": "code",
      "execution_count": 237,
      "metadata": {
        "colab": {
          "base_uri": "https://localhost:8080/"
        },
        "executionInfo": {
          "elapsed": 41418,
          "status": "ok",
          "timestamp": 1703135003153,
          "user": {
            "displayName": "",
            "userId": ""
          },
          "user_tz": -330
        },
        "id": "r1ek-n4IzOzG",
        "outputId": "0d6b4243-ce23-42bf-b510-f06e38f12be0"
      },
      "outputs": [],
      "source": [
        "import requests\n",
        "from bs4 import BeautifulSoup\n",
        "import html2text\n",
        "\n",
        "def scrape_website(url):\n",
        "    try:\n",
        "        # Send an HTTP request to the URL\n",
        "        response = requests.get(url)\n",
        "\n",
        "        # Check if the request was successful (status code 200)\n",
        "        if response.status_code == 200:\n",
        "            return html2text.html2text(response.text)\n",
        "\n",
        "        else:\n",
        "            print(f\"Failed to retrieve content. Status code: {response.status_code}\")\n",
        "\n",
        "    except Exception as e:\n",
        "        print(f\"An error occurred: {e}\")"
      ]
    },
    {
      "cell_type": "code",
      "execution_count": 238,
      "metadata": {
        "executionInfo": {
          "elapsed": 27,
          "status": "ok",
          "timestamp": 1703134961759,
          "user": {
            "displayName": "",
            "userId": ""
          },
          "user_tz": -330
        },
        "id": "cW-RBUdEvkIa"
      },
      "outputs": [
        {
          "data": {
            "text/plain": [
              "'[![Tiendeo official website](https://static-webapp.tiendeo.com/assets/tiendeo-\\nwhite.svg)](/cerdanyola-del-valles)\\n\\nCancelar\\n\\nBuscar\\n\\nMi Tiendeo\\n\\n  * [Destacados](/cerdanyola-del-valles)\\n  * [Hiper-Supermercados](/cerdanyola-del-valles/supermercados)\\n  * [Hogar y Muebles](/cerdanyola-del-valles/hogar-y-muebles)\\n  * [Jardín y Bricolaje](/cerdanyola-del-valles/jardin-y-bricolaje)\\n  * [Navidad](/cerdanyola-del-valles/navidad)\\n  * [Ropa, Zapatos y Complementos](/cerdanyola-del-valles/ropa-zapatos-y-complementos)\\n  * [Informática y Electrónica](/cerdanyola-del-valles/informatica-y-electronica)\\n  * [Juguetes y Bebés](/cerdanyola-del-valles/juguetes-y-bebes)\\n  * [Coches, Motos y Recambios](/cerdanyola-del-valles/coches-motos-y-recambios)\\n  * [Perfumerías y Belleza](/cerdanyola-del-valles/perfumerias-y-belleza)\\n  * [Viajes](/cerdanyola-del-valles/viajes)\\n  * [Restauración](/cerdanyola-del-valles/restauracion)\\n  * [Salud y Ópticas](/cerdanyola-del-valles/salud)\\n  * [Ocio](/cerdanyola-del-valles/ocio)\\n  * [Libros y Papelerías](/cerdanyola-del-valles/libros-y-papelerias)\\n  * [Bancos y Seguros](/cerdanyola-del-valles/bancos-y-seguros)\\n\\n![](https://statsapi.tiendeo.com/_statsapi/v1/Pixel/Bot/STORES?u=aHR0cHM6Ly93d3cudGllbmRlby5jb20vVGllbmRhcy9jZXJkYW55b2xhLWRlbC12YWxsZXMvanVndWV0ZXMteS1iZWJlcw==)\\n\\n![Logo Juguetes y\\nBebés](https://static1.tiendeo.com/galeria/icons_categoria/juguetes-y-\\nbebes_big.png)\\n\\n  * [Tiendeo en Cerdanyola del Vallès](/cerdanyola-del-valles)\\n  * [Juguetes y Bebés](/cerdanyola-del-valles/juguetes-y-bebes)\\nTiendas de Juguetes y Bebés en Cerdanyola del Vallès\\n\\n# Tiendas de Juguetes y Bebes en Cerdanyola del Valles - Horarios, teléfonos y\\ndirecciones\\n\\n## Juguetes y Bebés\\n\\n  * [Juguettos](/cerdanyola-del-valles/juguettos)\\n  * [Abacus](/cerdanyola-del-valles/abacus)\\n  * [Cerdà](/cerdanyola-del-valles/cerda)\\n  * [Dulce Bebé](/cerdanyola-del-valles/dulce-bebe)\\n  * [JAC](/cerdanyola-del-valles/jac)\\n\\n## Cerca de Cerdanyola del Vallès\\n\\n  * [ToysRus](/sant-quirze-del-valles/toysrus)\\n  * [Prénatal](/sant-cugat-del-valles/prenatal)\\n  * [Juguetilandia](/barcelona/juguetilandia)\\n  * [Toy Planet](/sabadell/toy-planet)\\n  * [Mayoral](/sant-cugat-del-valles/mayoral)\\n  * [DRIM](/barbera-del-valles/drim)\\n  * [Party Fiesta](/barbera-del-valles/party-fiesta)\\n  * [Gocco](/sant-cugat-del-valles/gocco)\\n  * [Disney](/barcelona/disney-store)\\n  * [Chicco](/barcelona/chicco)\\n  * [Don Dino](/ripollet/don-dino)\\n  * [Boboli](/barcelona/boboli)\\n  * [EurekaKids](/sant-cugat-del-valles/eurekakids)\\n  * [Charanga](/barcelona/charanga)\\n  * [Imaginarium](/barcelona/imaginarium)\\n  * [Nícoli](/barcelona/nicoli)\\n  * [Orchestra](/barcelona/orchestra)\\n  * [Nanos](/barcelona/nanos)\\n\\n  * [![Info y horarios de tienda ToysRus Sant Quirze del Valles en Centro Comercial Alcampo C-58 ](https://static1.tiendeo.com/upload_negocio/negocio_2242/logo2.png)\\n\\n###\\n\\nCentro Comercial Alcampo C-58. 08192 - Sant Quirze del Valles\\n\\nAbierto\\n\\n6.08 km](/Tiendas/sant-quirze-del-valles/toysrus-centro-comercial-\\nalcampo-c/410)\\n\\n  * [![Info y horarios de tienda Juguettos Cerdanyola del Vallès en Avenida Catalunya, 39 ](https://static1.tiendeo.com/upload_negocio/negocio_1699/logo2.png)\\n\\n###\\n\\nAvenida Catalunya, 39. 08290 - Cerdanyola del Vallès\\n\\nCerrado\\n\\n0.53 km](/Tiendas/cerdanyola-del-valles/juguettos-avenida-catalunya/199104)\\n\\n  * [![Info y horarios de tienda Abacus Barberà del Vallés en Sector Baricentro ](https://static1.tiendeo.com/upload_negocio/negocio_955/logo2.png)\\n\\n###\\n\\nSector Baricentro. 8210 - Barberà del Vallés2.04 km](/Tiendas/barbera-del-\\nvalles/abacus-sector-baricentro/272878)\\n\\n  * [![Info y horarios de tienda Prénatal Sant Cugat del Vallès en Rambla Del Celler, 41-43, 08190 -Sant Cugat Del Valles, Sant Cugat Del Vallès ](https://static1.tiendeo.com/upload_negocio/negocio_2424/logo2.png)\\n\\n###\\n\\nRambla Del Celler, 41-43, 08190 -Sant Cugat Del Valles, Sant Cugat Del Vallès.\\n08190 - Sant Cugat del Vallès4.92 km](/Tiendas/sant-cugat-del-valles/prenatal-\\nrambla-del-celler--sant-cugat-del-valles-sant-cugat-del-valles/568)\\n\\n  * [![Info y horarios de tienda Juguetilandia Barcelona en Pol. Sta. Margarida II, parcela 3 de la manzana número 3 ](https://static1.tiendeo.com/upload_negocio/negocio_1674/logo2.png)\\n\\n###\\n\\nPol. Sta. Margarida II, parcela 3 de la manzana número 3. 08223 -\\nBarcelona11.24 km](/Tiendas/barcelona/juguetilandia-pol-sta-margarida-ii-\\nparcela-de-la-manzana-numero/185002)\\n\\n  * [![Info y horarios de tienda Toy Planet Sabadell en Passeig de Manresa, 26 ](https://static1.tiendeo.com/upload_negocio/negocio_2137/logo2.png)\\n\\n###\\n\\nPasseig de Manresa, 26. 08202 - Sabadell7.03 km](/Tiendas/sabadell/toy-planet-\\npasseig-de-manresa/239262)\\n\\n  * [![Info y horarios de tienda Orchestra Barcelona en Avenida de Catalunya 20 ](https://static1.tiendeo.com/upload_negocio/negocio_1898/logo2.png)\\n\\n###\\n\\nAvenida de Catalunya 20. 08290 - Barcelona\\n\\nCerrado\\n\\n0.17 km](/Tiendas/barcelona/orchestra-avenida-de-catalunya/52100)\\n\\n  * [![Info y horarios de tienda Cerdà Cerdanyola del Vallès en C/ TORRENT Nº 20 ](https://static1.tiendeo.com/upload_negocio/negocio_310/logo2.png)\\n\\n###\\n\\nC/ TORRENT Nº 20. 08290 - Cerdanyola del Vallès0.33 km](/Tiendas/cerdanyola-\\ndel-valles/cerda-c-torrent-n/228453)\\n\\n  * [![Info y horarios de tienda Dulce Bebé Cerdanyola del Vallès en Avda Catalunya nº8 ](https://static1.tiendeo.com/upload_negocio/negocio_1358/logo2.png)\\n\\n###\\n\\nAvda Catalunya nº8. 08290 - Cerdanyola del Vallès0.56 km](/Tiendas/cerdanyola-\\ndel-valles/dulce-bebe-avda-catalunya-n/220481)\\n\\nVer más tiendas\\n\\n### Tiendas de Juguetes y Bebes en Cerdanyola del Valles\\n\\nEncuentra toda la información de las 6 tiendas de Juguetes y Bebes en\\nCerdanyola del Valles. Aquí podrás ver todo lo que necesitas de las tiendas de\\nJuguetes y Bebes más cercanas. Entra en la que te interese para ver la\\ndirección, el teléfono y los horarios de esa sucursal y todas las ofertas\\ndisponibles online.\\n\\n## Catálogos de Juguetes y Bebés en Cerdanyola del Vallès\\n\\n  * [![Logo Juguettos](https://static1.tiendeo.com/upload_negocio/negocio_1699/logo2.png)](/cerdanyola-del-valles/juguettos \"Logo Juguettos\")\\n\\n  * [![Logo Abacus](https://static1.tiendeo.com/upload_negocio/negocio_955/logo2.png)](/cerdanyola-del-valles/abacus \"Logo Abacus\")\\n\\n  * [![Logo Cerdà](https://static1.tiendeo.com/upload_negocio/negocio_310/logo2.png)](/cerdanyola-del-valles/cerda \"Logo Cerdà\")\\n\\n  * [![Logo Dulce Bebé](https://static1.tiendeo.com/upload_negocio/negocio_1358/logo2.png)](/cerdanyola-del-valles/dulce-bebe \"Logo Dulce Bebé\")\\n\\n  * [![Logo JAC](https://static1.tiendeo.com/upload_negocio/negocio_2405/logo2.png)](/cerdanyola-del-valles/jac \"Logo JAC\")\\n\\n## Juguetes y Bebés\\n\\nLos catalogos de esta categoria te permiten conocer la gran **oferta de\\njuguetes** que hay en el mercado. Existen millones de juguetes diferentes,\\ndesde los clasicos **Legos, puzzles**  hasta la **Barbie** con todas sus\\nvariedades y accesorios, junto a las consolas de mas exito como la\\n**Playstation**  o la  **Wii** , con  **videojuegos**  incluidos. y los\\nfolletos de las jugueterias se encargan de enseñarnos una muestra de los\\nmejores precios.  Ademas de juguetes, en esta seccion podras encontrar\\ncatalogos de **moda infantil** , **ropa para beb es** y **productos de\\npuericultura**.\\n\\n  * [Ir a ofertas de Juguetes y Bebés\\n\\n](/Folletos-Catalogos/juguetes-y-bebes)\\n\\n  * [Juguetes y Bebés en Cerdanyola del Vallès - Ver ofertas y Catálogos\\n\\n](/cerdanyola-del-valles/juguetes-y-bebes)\\n\\n## Productos destacados en Cerdanyola del Vallès\\n\\n  * ### Juguetes y Bebés en otras ciudades\\n\\n    * [ Juguetes y Bebés en Sant Cugat\\n\\n](/sant-cugat-del-valles/juguetes-y-bebes)\\n\\n    * [ Juguetes y Bebés en Sabadell\\n\\n](/sabadell/juguetes-y-bebes)\\n\\n    * [ Juguetes y Bebés en Santa Coloma\\n\\n](/santa-coloma-de-gramenet/juguetes-y-bebes)\\n\\n    * [ Juguetes y Bebés en Mollet del Vallès\\n\\n](/mollet-del-valles/juguetes-y-bebes)\\n\\n## Seguir a Tiendeo\\n\\n[facebook](https://www.facebook.com/Tiendeo/\\n\"facebook\")[twitter](https://twitter.com/tiendeo\\n\"twitter\")[instagram](https://www.instagram.com/tiendeo/ \"instagram\")\\n\\n## Descargar la APP Tiendeo\\n\\n[![Descargar la APP Tiendeo](https://static-\\nwebapp.tiendeo.com/assets/country/es/download-appstore.png)](\\nhttps://apps.apple.com/app/tiendeo-catálogos-y-ofertas/id489822377?ls=1 \"iOS\\nApp\")[![Descargar la APP Tiendeo](https://static-\\nwebapp.tiendeo.com/assets/country/es/download-\\ngoogleplay.png)](https://play.google.com/store/apps/details?id=com.geomobile.tiendeo\\n\"Android App\")[![CO2 Neutral Website](https://static-\\nwebapp.tiendeo.com/assets/coneutralwebsite.png)](https://tree-\\nnation.com/profile/impact/tiendeo#co2 \"CO2 Neutral Website\")\\n\\n(C) 2023 Tiendeo Web Marketing SL | Palau de Mar, 08039 Barcelona\\n\\n[Aviso Legal](https://legal.shopfully.cloud/es-es/privacy-policy-ti.html) |\\n[Política de Cookies](https://www.tiendeo.com/cookie-policy) |\\n\\nGestionar cookies\\n\\n'"
            ]
          },
          "execution_count": 238,
          "metadata": {},
          "output_type": "execute_result"
        }
      ],
      "source": [
        "url = \"https://www.tiendeo.com/Tiendas/cerdanyola-del-valles/juguetes-y-bebes\"\n",
        "\n",
        "google_search_content = scrape_website(url)\n",
        "google_search_content"
      ]
    },
    {
      "cell_type": "markdown",
      "metadata": {},
      "source": [
        "Si quieres ver un ejemplo más avanzado, mira este artículo (https://dev.to/albertgilopez/buqueda-en-tiempo-real-automatizada-con-google-maps-y-selenium-21h7) de “Búqueda en tiempo real automatizada con Google Maps y Selenium y este artículo (https://dev.to/albertgilopez/web-scraping-para-extraer-informacion-utilizando-requests-y-beautifulsoup-en-python-mmm) de “Web scraping para extraer información utilizando requests y BeautifulSoup en Python” en dev.to."
      ]
    },
    {
      "cell_type": "code",
      "execution_count": 239,
      "metadata": {},
      "outputs": [
        {
          "name": "stdout",
          "output_type": "stream",
          "text": [
            "```json\n",
            "{\n",
            "  \"stores\": [\n",
            "    {\n",
            "      \"\n",
            "name\": \"Juguettos\",\n",
            "      \"address\": \"Avenida\n",
            " Catalunya, 39\",\n",
            "      \"city\": \"Cerdanyola del Vall\\u00e8s\",\n",
            "      \"state\": null\n",
            ",\n",
            "      \"zip\": \"08290\",\n",
            "      \"country\": \"Spain\",\n",
            "      \"phone\": null,\n",
            "      \"hours\n",
            "\": \"Closed\",\n",
            "      \"distance\": \"0.53 km\",\n",
            "      \"website\": \"https://www.tiendeo.com/Tiendas/cerdanyola-del-valles/juguet\n",
            "tos-avenida-catalunya/199104\",\n",
            "      \"logo\": \"https://static1.tiendeo.com/upload_negocio/negocio_1699/logo2.\n",
            "png\"\n",
            "    }\n",
            "  ]\n",
            "}\n",
            "```\n"
          ]
        }
      ],
      "source": [
        "import vertexai\n",
        "from vertexai.preview.generative_models import GenerativeModel, Part\n",
        "\n",
        "def google_search_formated_response(content, max_output_tokens=7815):\n",
        "  model = GenerativeModel(\"gemini-pro\")\n",
        "\n",
        "  schema = \"\"\"\n",
        "  {\n",
        "    \"places\": [\n",
        "      {\n",
        "        \"name\": \"\",\n",
        "        \"rating\": <<float>>,\n",
        "        \"price\": \"\",\n",
        "        \"category\": \"\",\n",
        "        \"address\": \"\",\n",
        "        \"city\": \"\",\n",
        "        \"state\": \"\",\n",
        "        \"zip\": \"\",\n",
        "        \"country\": \"\",\n",
        "        \"phone\": \"\",\n",
        "        \"website\": \"\"\n",
        "      }\n",
        "    ]\n",
        "  }\n",
        "  \"\"\"\n",
        "\n",
        "  responses = model.generate_content(\n",
        "    f\"\"\"Format the below response to the following JSON schema, only 1 store.\n",
        "\n",
        "    Here's the content:\n",
        "\n",
        "    {content}\n",
        "\n",
        "    \"\"\",\n",
        "        generation_config={\n",
        "            \"max_output_tokens\": max_output_tokens,\n",
        "            \"temperature\": 0,\n",
        "            \"top_p\": 1\n",
        "        },\n",
        "      stream=True,\n",
        "      )\n",
        "\n",
        "  formated_response = []\n",
        "\n",
        "  for response in responses:\n",
        "      text = response.candidates[0].content.parts[0].text\n",
        "      print(text)\n",
        "      formated_response.append(text)\n",
        "\n",
        "  return formated_response\n",
        "\n",
        "formated_response = google_search_formated_response(google_search_content)"
      ]
    },
    {
      "cell_type": "code",
      "execution_count": 240,
      "metadata": {},
      "outputs": [
        {
          "data": {
            "text/plain": [
              "['```json\\n{\\n  \"stores\": [\\n    {\\n      \"',\n",
              " 'name\": \"Juguettos\",\\n      \"address\": \"Avenida',\n",
              " ' Catalunya, 39\",\\n      \"city\": \"Cerdanyola del Vall\\\\u00e8s\",\\n      \"state\": null',\n",
              " ',\\n      \"zip\": \"08290\",\\n      \"country\": \"Spain\",\\n      \"phone\": null,\\n      \"hours',\n",
              " '\": \"Closed\",\\n      \"distance\": \"0.53 km\",\\n      \"website\": \"https://www.tiendeo.com/Tiendas/cerdanyola-del-valles/juguet',\n",
              " 'tos-avenida-catalunya/199104\",\\n      \"logo\": \"https://static1.tiendeo.com/upload_negocio/negocio_1699/logo2.',\n",
              " 'png\"\\n    }\\n  ]\\n}\\n```']"
            ]
          },
          "execution_count": 240,
          "metadata": {},
          "output_type": "execute_result"
        }
      ],
      "source": [
        "formated_response"
      ]
    },
    {
      "cell_type": "markdown",
      "metadata": {},
      "source": [
        "Ver también: Gemini AI: Extracción de datos estructurados con Gemini Pro Vision y Pydantic:\n",
        "\n",
        "https://medium.com/@jddam/extracci%C3%B3n-de-datos-estructurados-con-gemini-pro-vision-y-pydantic-345577edb344\n"
      ]
    }
  ],
  "metadata": {
    "colab": {
      "collapsed_sections": [
        "ErAPHHjO-deZ",
        "-x7PO4Cx-kta",
        "9aaL2-Jrf0NU",
        "qVkcH8ldmVM-",
        "cxqOBl9GmxND",
        "zqYN9ZlGvTkp",
        "7i0XF8fwvdWR",
        "atjfWPUqA43p",
        "smWeD8A5TnfQ",
        "oAfCdBR2oUBl",
        "CsWFU1NjsNOV"
      ],
      "provenance": [],
      "toc_visible": true
    },
    "kernelspec": {
      "display_name": "Python 3",
      "name": "python3"
    },
    "language_info": {
      "codemirror_mode": {
        "name": "ipython",
        "version": 3
      },
      "file_extension": ".py",
      "mimetype": "text/x-python",
      "name": "python",
      "nbconvert_exporter": "python",
      "pygments_lexer": "ipython3",
      "version": "3.11.4"
    }
  },
  "nbformat": 4,
  "nbformat_minor": 0
}
